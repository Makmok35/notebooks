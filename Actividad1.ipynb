{
  "nbformat": 4,
  "nbformat_minor": 0,
  "metadata": {
    "colab": {
      "provenance": [],
      "authorship_tag": "ABX9TyN1YqMoxqsW2J/JxzWFm0hx",
      "include_colab_link": true
    },
    "kernelspec": {
      "name": "python3",
      "display_name": "Python 3"
    },
    "language_info": {
      "name": "python"
    }
  },
  "cells": [
    {
      "cell_type": "markdown",
      "metadata": {
        "id": "view-in-github",
        "colab_type": "text"
      },
      "source": [
        "<a href=\"https://colab.research.google.com/github/Makmok35/notebooks/blob/main/Actividad1.ipynb\" target=\"_parent\"><img src=\"https://colab.research.google.com/assets/colab-badge.svg\" alt=\"Open In Colab\"/></a>"
      ]
    },
    {
      "cell_type": "markdown",
      "source": [
        "# **Actividad 1. Javier Benítez Malia**\n",
        "\n",
        "Link a nbviewer para visualización, en caso de no estar ejecutado:\n",
      ],
      "metadata": {
        "id": "CyYbRgwG-X42"
      }
    },
    {
      "cell_type": "markdown",
      "source": [
        "# Actividad 1: Selección de un transformador\n",
        "\n",
        "###1) Seleccione un transformador adecuado del catálogo TRHIAL (fichero adjunto) para alimentar una carga en baja tensión (400 V) calculada según la siguiente fórmula:\n",
        "Carga: (última cifra del DNI *200 + 200) kVA\n",
        "\n",
        "Suponga que la carga tiene un factor de potencia 0.85 inductivo.\n",
        "El transformador forma parte de una red de distribución de 20 kV."
      ],
      "metadata": {
        "id": "E9emCnksDrci"
      }
    },
    {
      "cell_type": "code",
      "source": [
        "# Última cifra del DNI: 5\n",
        "S = (5 * 200 + 200)* (10**3) #VA\n",
        "print(\"Carga: {:.2f} VA\".format(S))"
      ],
      "metadata": {
        "colab": {
          "base_uri": "https://localhost:8080/"
        },
        "id": "1NiUi3GFD8Ns",
        "outputId": "960a2534-2564-495f-ad39-ecd039581fe3"
      },
      "execution_count": 2,
      "outputs": [
        {
          "output_type": "stream",
          "name": "stdout",
          "text": [
            "Carga: 1200000.00 VA\n"
          ]
        }
      ]
    },
    {
      "cell_type": "markdown",
      "source": [
        "Es por ello que se elige el transformador de carga de **1250 kVA**"
      ],
      "metadata": {
        "id": "aMRgaxBcoolz"
      }
    },
    {
      "cell_type": "markdown",
      "source": [
        "### 2) Con los datos del catálogo del fabricante, determine los parámetros del circuito equivalente monofásico del transformador trifásico seleccionado."
      ],
      "metadata": {
        "id": "hZV99mPcE1J8"
      }
    },
    {
      "cell_type": "code",
      "source": [
        "import numpy as np\n",
        "\n",
        "S_trafo = 1250e3\n",
        "\n",
        "# Datos del problema\n",
        "fp = np.cos(0.85) #inductivo\n",
        "V_1n = 22.9e3\n",
        "V_2n = 440\n",
        "Io_pc = 0.012\n",
        "e_cc = 0.06\n",
        "Po = 2800 #W\n",
        "Pcc = 11400 #W (supuesto a 75ºC)\n",
        "\n",
        "rt = V_1n/V_2n\n",
        "print(\"rt : \" + str(rt))\n",
        "\n",
        "I_1n = S_trafo/(np.sqrt(3)*V_1n)\n",
        "I_2n = S_trafo/(np.sqrt(3)*V_2n)\n",
        "\n",
        "print(\"I_1n : {:.2f} A\\nI_2n : {:.2f} A\".format(I_1n,I_2n))\n",
        "\n",
        "# Cálculo de la rama de vacío\n",
        "Io = Io_pc * I_2n\n",
        "phi_0 = np.arccos(Po/(Io*V_2n))\n",
        "\n",
        "I_fe = Io *np.cos(phi_0)\n",
        "I_m = Io*np.sin(phi_0)\n",
        "Y_0 = Io/V_1n\n",
        "\n",
        "R_fe = 1./(Y_0*np.cos(phi_0))\n",
        "X_m = 1./(Y_0*np.sin(phi_0))\n",
        "\n",
        "R_fe2 = V_1n/I_fe\n",
        "X_m2 = V_1n/I_m\n",
        "\n",
        "phi_0_deg = phi_0*180/np.pi\n",
        "\n",
        "print(\"\\nCálculos de la rama de vacío:\")\n",
        "print(\"Io : {:.2f}\".format(Io))\n",
        "print(\"I_fe : {:.2f}\".format(I_fe))\n",
        "print(\"I_m : {:.2f}\".format(I_m))\n",
        "print(\"R_fe = {:.2f}, X_m = {:.2f}\".format(R_fe, X_m))\n",
        "print(\"R_fe2 = {:.2f}, X_m2 = {:.2f}\".format(R_fe2, X_m2))\n",
        "print(\"phi_0 = {:.2f}º\".format(phi_0_deg))\n",
        "\n",
        "# Rama cortocircuito\n",
        "print(\"\\nCálculos de la rama de cortocircuito:\")\n",
        "V_cc = e_cc * V_1n\n",
        "print(f\"Vcc = {V_cc}\")\n",
        "fp_cc = Pcc/(V_cc*I_1n)\n",
        "phi_cc = np.arccos(fp_cc)\n",
        "\n",
        "R_cc = (V_cc/I_1n) * fp_cc\n",
        "X_cc = (V_cc/I_1n) * np.sin(phi_cc)\n",
        "\n",
        "phi_cc_deg = phi_cc *180/np.pi\n",
        "print(\"R_cc = {:.2f}, X_cc = {:.2f}\".format(R_cc,X_cc))\n",
        "print(\"phi_cc = {:.2f}º\".format(phi_cc_deg))"
      ],
      "metadata": {
        "colab": {
          "base_uri": "https://localhost:8080/"
        },
        "id": "P_cNkSlBFFSn",
        "outputId": "add8b81d-36c1-4af6-a055-aca819a875e0"
      },
      "execution_count": 4,
      "outputs": [
        {
          "output_type": "stream",
          "name": "stdout",
          "text": [
            "rt : 52.04545454545455\n",
            "I_1n : 31.51 A\n",
            "I_2n : 1640.20 A\n",
            "\n",
            "Cálculos de la rama de vacío:\n",
            "Io : 19.68\n",
            "I_fe : 6.36\n",
            "I_m : 18.63\n",
            "R_fe = 3598.57, X_m = 1229.51\n",
            "R_fe2 = 3598.57, X_m2 = 1229.51\n",
            "phi_0 = 71.14º\n",
            "\n",
            "Cálculos de la rama de cortocircuito:\n",
            "Vcc = 1374.0\n",
            "R_cc = 11.48, X_cc = 42.06\n",
            "phi_cc = 74.74º\n"
          ]
        }
      ]
    },
    {
      "cell_type": "markdown",
      "source": [
        "###3) Determine la regulación y rendimiento del trafo funcionando con los siguientes índices de carga (c): 110%, 100%, 90%, 70%, 50%, 30%."
      ],
      "metadata": {
        "id": "SN7yuH79FFvq"
      }
    },
    {
      "cell_type": "code",
      "source": [
        "U_1n = 20e3\n",
        "U_2n = 400\n",
        "fp = 0.85\n",
        "P_fe = Po\n",
        "Pj = 11400 #W (supuesto a 75ºC)\n",
        "\n",
        "I1n = S/(np.sqrt(3)*U_1n)\n",
        "I2n = S/(np.sqrt(3)*U_2n)\n",
        "\n",
        "\n",
        "def reg_rto(c, fp, Ucc=V_cc, phi_cc=phi_cc, I_2n=I2n, P_fe=P_fe, Pj=Pj):\n",
        "  regul = c*e_cc*np.cos(phi_cc-np.arccos(fp))\n",
        "  U2 = U_2n - regul*U_2n\n",
        "  rto = (np.sqrt(3)*c*U2*I2n*fp) / (np.sqrt(3)*c*U2*I2n*fp + P_fe + c**2*Pj)\n",
        "  return regul, U2, rto\n",
        "\n",
        "print(\"Los funcionamientos según la carga y con un fp = 0.85 inductivo son:\")\n",
        "for i in [1.1, 1, 0.9, 0.7, 0.5, 0.3]:\n",
        "  print(f\"c={i}:\")\n",
        "  print(\"\\tRegulación = {:.4f}\".format(reg_rto(i,fp)[0]))\n",
        "  print(\"\\tTensión en la carga: U2 = {:.1f}\".format(reg_rto(i,fp)[1]))\n",
        "  print(\"\\tRendimiento = {:.3f}\\n\".format(reg_rto(i,fp)[2]))\n"
      ],
      "metadata": {
        "id": "EIL4lMEfFbJZ",
        "colab": {
          "base_uri": "https://localhost:8080/"
        },
        "outputId": "7e7d7a82-ab4f-466d-8de7-cf555dc8eeb0"
      },
      "execution_count": 5,
      "outputs": [
        {
          "output_type": "stream",
          "name": "stdout",
          "text": [
            "Los funcionamientos según la carga y con un fp = 0.85 inductivo son:\n",
            "c=1.1:\n",
            "\tRegulación = 0.0483\n",
            "\tTensión en la carga: U2 = 380.7\n",
            "\tRendimiento = 0.985\n",
            "\n",
            "c=1:\n",
            "\tRegulación = 0.0439\n",
            "\tTensión en la carga: U2 = 382.4\n",
            "\tRendimiento = 0.986\n",
            "\n",
            "c=0.9:\n",
            "\tRegulación = 0.0395\n",
            "\tTensión en la carga: U2 = 384.2\n",
            "\tRendimiento = 0.987\n",
            "\n",
            "c=0.7:\n",
            "\tRegulación = 0.0307\n",
            "\tTensión en la carga: U2 = 387.7\n",
            "\tRendimiento = 0.988\n",
            "\n",
            "c=0.5:\n",
            "\tRegulación = 0.0220\n",
            "\tTensión en la carga: U2 = 391.2\n",
            "\tRendimiento = 0.989\n",
            "\n",
            "c=0.3:\n",
            "\tRegulación = 0.0132\n",
            "\tTensión en la carga: U2 = 394.7\n",
            "\tRendimiento = 0.987\n",
            "\n"
          ]
        }
      ]
    },
    {
      "cell_type": "markdown",
      "source": [
        "### 4) Si el régimen de funcionamiento diario viene descrito por la gráfica de la figura, determine las pérdidas anuales de energía del transformador y cuantifíquelas económicamente suponiendo un precio medio de la electricidad de 14 c€/kWh"
      ],
      "metadata": {
        "id": "0ut-GdOPFbvp"
      }
    },
    {
      "cell_type": "code",
      "source": [
        "precio = 0.14 #€/kWh\n",
        "Pj = 11400 #W, a plena carga, supuesto a 75ºC\n",
        "P_laborables = 0\n",
        "P_fdsemana = 0\n",
        "Po = 2800\n",
        "\n",
        "for i in [0.8, 1.08]:\n",
        "  P_laborables = P_laborables + 8*(Po + Pj*i**2)\n",
        "  P_fdsemana = P_fdsemana + 8*(Po + Pj*(0.6*i)**2)\n",
        "\n",
        "Pc_03 = 8 *(Po + Pj * 0.3**2)\n",
        "P_laborables = (P_laborables + Pc_03)*10**(-3)\n",
        "P_fdsemana = (P_fdsemana +  Pc_03)*10**(-3)\n"
      ],
      "metadata": {
        "id": "Fb7waaFIFvG6"
      },
      "execution_count": 6,
      "outputs": []
    },
    {
      "cell_type": "markdown",
      "source": [
        "> El número de días laborables, sin contar festivos y suponiendo año no bisiesto, es de 261 días, frente a los 104 días correspondientes a los fines de semana\n",
        "\n"
      ],
      "metadata": {
        "id": "tFTzPE1t17F4"
      }
    },
    {
      "cell_type": "code",
      "source": [
        "P_laborables_total = P_laborables * 261\n",
        "P_fdesemana_total = P_fdsemana * 104\n",
        "\n",
        "P_total = P_fdesemana_total + P_laborables_total\n",
        "precio_total = P_total * precio\n",
        "print(f\"Las pérdidas anuales son:\\n    P_lab = {P_laborables_total:.2f} kWh/año\")\n",
        "\n",
        "print(f\"Las pérdidas anuales de energía del transformador son:\\n    P_total = {P_total:.2f} kWh/año\")\n",
        "print(f\"El precio total de esas pérdidas es: \\n    Precio total : {precio_total:.2f} €\")"
      ],
      "metadata": {
        "colab": {
          "base_uri": "https://localhost:8080/"
        },
        "id": "dyJYA4gu151I",
        "outputId": "3c0d61f8-804d-4c40-e3f5-e9ac9303f146"
      },
      "execution_count": 7,
      "outputs": [
        {
          "output_type": "stream",
          "name": "stdout",
          "text": [
            "Las pérdidas anuales son:\n",
            "    P_lab = 62679.59 kWh/año\n",
            "Las pérdidas anuales de energía del transformador son:\n",
            "    P_total = 76690.02 kWh/año\n",
            "El precio total de esas pérdidas es: \n",
            "    Precio total : 10736.60 €\n"
          ]
        }
      ]
    }
  ]
}
