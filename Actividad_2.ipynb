{
  "nbformat": 4,
  "nbformat_minor": 0,
  "metadata": {
    "colab": {
      "provenance": [],
      "authorship_tag": "ABX9TyMAvseQP3FF5J1lWIUB9iIT",
      "include_colab_link": true
    },
    "kernelspec": {
      "name": "python3",
      "display_name": "Python 3"
    },
    "language_info": {
      "name": "python"
    }
  },
  "cells": [
    {
      "cell_type": "markdown",
      "metadata": {
        "id": "view-in-github",
        "colab_type": "text"
      },
      "source": [
        "<a href=\"https://colab.research.google.com/github/Makmok35/notebooks/blob/main/Actividad_2.ipynb\" target=\"_parent\"><img src=\"https://colab.research.google.com/assets/colab-badge.svg\" alt=\"Open In Colab\"/></a>"
      ]
    },
    {
      "cell_type": "markdown",
      "source": [
        "# Actividad 2. Selección de un motor de inducción\n",
        "\n",
        "Se quiere accionar una bomba centrífuga para elevar un caudal de agua Q. Se tiene alimentación eléctrica a 400 V. Los datos con los que se trabajarán son los siguientes:\n",
        "\n",
        "\n",
        "*   Velocidad de giro bomba: 1460 rpm\n",
        "*   Altura de impulsión $H_i$ : 32 m\n",
        "*   Altura de aspiración $H_a$ : 5 m\n",
        "*   Pérdidas de carga en aspiración e impulsión $H_p$ : 8.5 m\n",
        "*   Rendimiento bomba : $70\\%$\n",
        "\n",
        "*   Caudal de la bomba : $Q \\ (m^3/h)$\n",
        "\n",
        "donde Q cambia en función de la última cifra del DNI. En mi caso, la última cifra del DNI es 5, por tanto:\n",
        "$$Q \\ = 130 \\ m^3/h $$"
      ],
      "metadata": {
        "id": "5Qxk1hgO4Dis"
      }
    },
    {
      "cell_type": "code",
      "execution_count": null,
      "metadata": {
        "colab": {
          "base_uri": "https://localhost:8080/"
        },
        "id": "02UPwCIz3-wk",
        "outputId": "9dbec36c-3754-44fb-f8e4-56d0a8b028f6"
      },
      "outputs": [
        {
          "output_type": "stream",
          "name": "stdout",
          "text": [
            "Q = 130 m^3/h\n"
          ]
        }
      ],
      "source": [
        "# Datos\n",
        "n = 1460 #rpm\n",
        "Hi = 32\n",
        "Ha = 5\n",
        "Hp = 8.5\n",
        "rend_b = 0.7\n",
        "V = 400\n",
        "\n",
        "# Caudal Q\n",
        "Q = 130 #m^3/h\n",
        "print(f\"Q = {Q} m^3/h\")"
      ]
    },
    {
      "cell_type": "markdown",
      "source": [
        "Los apartados a determinar se muestran a continuación"
      ],
      "metadata": {
        "id": "Ufp3U4Si7ux0"
      }
    },
    {
      "cell_type": "markdown",
      "source": [
        "## 1. Expresión del par resistente de la bomba, sabiendo que es una expresión cuadrática de la velocidad de giro ($M_r \\ = AΩ^2 + B$) y que el par de arranque es el 15% del nominal\n",
        "\n",
        "Para determinar el par resistente de la bomba, es necesario tener qué potencia suministra esta, cuya expresión es:\n",
        "$$ P_b = \\frac{\\rho gHQ}{η_b},$$\n",
        "donde:\n",
        "* $\\eta_b = 0.7$, rendimiento de la bomba\n",
        "* $\\rho \\ = 1000 \\ kg/m^3$, densidad del agua, fluido que elevará\n",
        "* $g = 9.81 \\ m/s^2$, aceleración de la gravedad\n",
        "* $H$, diferencia de altura entre dónde se encuentra la bomba, y a dónde se desagua, sumando las pérdidas. En el caso que nos ocupa:\n",
        "$$H = (H_i + H_a + H_p) \\ m$$"
      ],
      "metadata": {
        "id": "BJD1pd394CL3"
      }
    },
    {
      "cell_type": "code",
      "source": [
        "rho = 1000 #kg/m^3\n",
        "g = 9.81 #m/s`2\n",
        "H = Hi + Ha + Hp #m\n",
        "Q = 130/3600 #vonversión m^3/s\n",
        "\n",
        "Pb = rho*g*H*Q / rend_b\n",
        "\n",
        "print(f\"Pb = {(Pb*1e-3):.2f} kW\")"
      ],
      "metadata": {
        "colab": {
          "base_uri": "https://localhost:8080/"
        },
        "id": "7D-9aDQ_8N3P",
        "outputId": "fa67d9bb-11c9-4e53-8f66-33a9831cd93a"
      },
      "execution_count": null,
      "outputs": [
        {
          "output_type": "stream",
          "name": "stdout",
          "text": [
            "Pb = 23.03 kW\n"
          ]
        }
      ]
    },
    {
      "cell_type": "markdown",
      "source": [
        "Una vez obtenida la potencia de la bomba, $P_b = 23.03 \\ kW$, se calcula el par nominal de giro $M_n$"
      ],
      "metadata": {
        "id": "1ensba-BLMG4"
      }
    },
    {
      "cell_type": "code",
      "source": [
        "import numpy as np\n",
        "\n",
        "omega_n = n *(2*np.pi/60) #velocidad de giro en rad/s\n",
        "omega_n"
      ],
      "metadata": {
        "id": "tyuq27T5MYqM",
        "colab": {
          "base_uri": "https://localhost:8080/"
        },
        "outputId": "c88679d2-de7b-4876-b6af-54e7013ddc0c"
      },
      "execution_count": null,
      "outputs": [
        {
          "output_type": "execute_result",
          "data": {
            "text/plain": [
              "152.89084247470325"
            ]
          },
          "metadata": {},
          "execution_count": 18
        }
      ]
    },
    {
      "cell_type": "markdown",
      "source": [
        "La velocidad de giro aportada en el enunciado es la nominal. Por tanto:\n",
        "\n",
        "$$M_n = \\frac{P_b}{Ω_n}$$"
      ],
      "metadata": {
        "id": "A5hqa8RBR0Vl"
      }
    },
    {
      "cell_type": "code",
      "source": [
        "Mn = Pb/omega_n\n",
        "print(f\"Mn = {Mn:.2f} Nm\")"
      ],
      "metadata": {
        "colab": {
          "base_uri": "https://localhost:8080/"
        },
        "id": "vxnP7ScTTU5t",
        "outputId": "0508c054-9c43-47e7-8c58-3bff7b3d5dd8"
      },
      "execution_count": null,
      "outputs": [
        {
          "output_type": "stream",
          "name": "stdout",
          "text": [
            "Mn = 150.61 Nm\n"
          ]
        }
      ]
    },
    {
      "cell_type": "markdown",
      "source": [
        "Se especifica que el par de arranque es el 15% del par nominal: $M_{arr} = 0.15 M_n$"
      ],
      "metadata": {
        "id": "iZoUVMo9TshO"
      }
    },
    {
      "cell_type": "code",
      "source": [
        "M_arr = 0.15*Mn\n",
        "print(f\"M_arr = {M_arr:.2f} Nm\")"
      ],
      "metadata": {
        "colab": {
          "base_uri": "https://localhost:8080/"
        },
        "id": "h9M8gXJ-UyRh",
        "outputId": "0f0512aa-0deb-41de-930b-6ac92fe59a3d"
      },
      "execution_count": null,
      "outputs": [
        {
          "output_type": "stream",
          "name": "stdout",
          "text": [
            "M_arr = 22.59 Nm\n"
          ]
        }
      ]
    },
    {
      "cell_type": "markdown",
      "source": [
        "A la hora de calcular el par resistente, $M_r$, consideramos 2 puntos para poder obtener los parámetros de la curva y, por tanto, calcular A y B ($M_r = A\\Omega^2 + B$).\n",
        "\n",
        "* El primero de ellos, es el punto nominal de funcionamiento ($M_n$, $Ω$)\n",
        "* El segundo punto de funcionammiento, es aquel del par de arranque. En el momento del arranque, $M_{arr}$, se tiene $\\Omega_{arr} = 0$\n",
        "\n",
        "$$\n",
        "\\left\\{ M_n = A\\Omega_n^2 + B\\ \\atop M_{arr} = A \\cdot 0 + B\\right. $$"
      ],
      "metadata": {
        "id": "mdi0oLbmVcRC"
      }
    },
    {
      "cell_type": "code",
      "source": [
        "B = M_arr"
      ],
      "metadata": {
        "id": "raEZFoGucoEB"
      },
      "execution_count": null,
      "outputs": []
    },
    {
      "cell_type": "markdown",
      "source": [
        "Por tanto,\n",
        "$$\n",
        "\\left\\{ B = M_{arr} = 22.59 \\ Nm \\atop A =\n",
        "(M_n-M_{arr})/{\\Omega_n^2}\n",
        "\\right.$$\n"
      ],
      "metadata": {
        "id": "QzJe536Acolv"
      }
    },
    {
      "cell_type": "code",
      "source": [
        "A = (Mn - M_arr) / (omega_n**2)\n",
        "print(f\"A = {A:.5f}\")"
      ],
      "metadata": {
        "colab": {
          "base_uri": "https://localhost:8080/"
        },
        "id": "0OgCGCL_1V1A",
        "outputId": "64078080-964e-428d-d7da-40888afa34e4"
      },
      "execution_count": null,
      "outputs": [
        {
          "output_type": "stream",
          "name": "stdout",
          "text": [
            "A = 0.00548\n"
          ]
        }
      ]
    },
    {
      "cell_type": "markdown",
      "source": [
        "La expresión de $M_r$ quedaría: **$M_r = 0.00548Ω^2 + 22.59 \\ Nm$**"
      ],
      "metadata": {
        "id": "DbgL3Q1-1U4a"
      }
    },
    {
      "cell_type": "markdown",
      "source": [
        "## 2. Seleccione un motor capaz de proporcionar el par y la potencia adecuados para esta bomba (Marelli Motori)"
      ],
      "metadata": {
        "id": "m4coAoOy2DMf"
      }
    },
    {
      "cell_type": "markdown",
      "source": [
        "Se necesita un motor que tenga capacidad suficiente como para proporcionar la potencia calculada en el apartado 1 y el par nominal, es decir: $P = 23.03 \\ kW$ y $n = 1460 \\ rpm$. Además, tenemos una tensión de 400 V\n",
        "\n",
        "Cabe destacar que es necesario conocer el número de pares de polos que tiene el motor, obtenido de la fórmula siguiente:\n",
        "$$ n_s = \\frac{60f}{p},$$\n",
        "donde $p$ es el número de pares de polos, y $f$ es la frecuencia, constante en la UE, $f = 50 \\ Hz$. La expresión quedaría, para el caso que nos ocupa:\n",
        "\n",
        "$$n_s = \\frac{3000}{p}$$\n",
        "Por otro lado, la velocidad de giro nominal es de 1460 rpm, por lo que la más cercana en pares de polos enteros es 2, que daría una velocidad de sincronismo de $n_s= 1500 \\ rpm $.\n",
        "\n",
        "El número de pares de polos sería: $p = 2$.\n",
        "\n"
      ],
      "metadata": {
        "id": "ctTeMqrM2T-O"
      }
    },
    {
      "cell_type": "markdown",
      "source": [
        "____\n",
        "El primer motor cuyas especificaciones nos permite alimentar la bomba es el siguiente:\n",
        "\n",
        "**Motor A5C 200 L4**:\n",
        "* Rated Output: $P = 30 \\ kW$\n",
        "* Velocidad de giro nominal: $n_N = 1465 \\ rpm$\n",
        "* Eficiencia para índices de carga:\n",
        "  * Plena carga: $η = 92.4 \\ \\%$\n",
        "  * 3/4 carga: $η = 93.0\\ \\%$\n",
        "  * 1/2 carga: $η = 92.7 \\ \\%$\n",
        "* Factor de potencia : $cos ϕ = 0.89$\n",
        "* Par nominal : $T_n = 196 \\ Nm$\n",
        "\n"
      ],
      "metadata": {
        "id": "BWHQ2A9356HR"
      }
    },
    {
      "cell_type": "code",
      "source": [
        "n_N = 1465 #rpm\n",
        "fp = 0.89\n",
        "Tn = 196 #Nm\n",
        "Ts = 2.6*Tn #Nm"
      ],
      "metadata": {
        "id": "McUITpM_NB9a"
      },
      "execution_count": null,
      "outputs": []
    },
    {
      "cell_type": "markdown",
      "source": [
        "## 3. Determine el punto de funcionamiento sobre la curva par-velocidad del conjunto motor-bomba\n"
      ],
      "metadata": {
        "id": "3_R8LTQ-Fxla"
      }
    },
    {
      "cell_type": "markdown",
      "source": [
        "El punto de funcionamimento del conjunto vendrá dado por el punto en el cual corten la curva del par motor con la curva de funcionamiento de la bomba.\n",
        "\n",
        "Para ello, se asume que el punto de funcionamiento para el par motor estará en la zona que se aproxima lineal, con deslizamiento pequeño, entre los dos puntos que se consideran a continuación:\n",
        "\n",
        "- Punto nominal de funcionamiento, donde a $n_N$ se tiene un par nominal $T_n$\n",
        "- Punto obtenido con la velocidad de sincronismo, donde a $n_s$ se tiene $T = 0$\n",
        "\n",
        "Si se supone una recta de la forma $T = a_1 n + a_0$:\n",
        "\n",
        "$$\\left\\{(n_N, T_n) → T_n = a_1n_N + a_0 \\atop (n_s, 0) → 0 = a_1n_s + a_0\\right.$$\n",
        "\n",
        "De lo que se deduce que:\n",
        "\n",
        "$$a_0 = \\frac{-n_sT_n}{n_N-n_s}, \\ a_1 = \\frac{T_n}{n_N-n_s}$$.\n",
        "\n",
        "La ecuación de la recta quedaría, por tanto,\n",
        "$$T(n) = \\frac{T_n}{n_N-n_s} (n-n_s)$$\n"
      ],
      "metadata": {
        "id": "lYsUGUlQF6Cb"
      }
    },
    {
      "cell_type": "code",
      "source": [
        "ns = 1500 * (2*np.pi/60)\n",
        "n_N = 1465 * (2*np.pi/60)\n",
        "a0 = ns*Tn/(ns-n_N)\n",
        "a1 = -Tn/(ns-n_N)\n",
        "\n",
        "print(f\"a0 = {a0:.2f}, a1 = {a1:.2f}\")"
      ],
      "metadata": {
        "colab": {
          "base_uri": "https://localhost:8080/"
        },
        "id": "_UXCLg0ZF4sm",
        "outputId": "ce363db9-3916-4f5f-f961-06e91708353d"
      },
      "execution_count": null,
      "outputs": [
        {
          "output_type": "stream",
          "name": "stdout",
          "text": [
            "a0 = 8400.00, a1 = -53.48\n"
          ]
        }
      ]
    },
    {
      "cell_type": "markdown",
      "source": [
        "Una vez sustituidos los valores y convirtiendo a rad/s: $T(Ω) = -53.48Ω + 8400$"
      ],
      "metadata": {
        "id": "M3hR9kIOLBC_"
      }
    },
    {
      "cell_type": "markdown",
      "source": [
        "El punto de funcionamiento del conjunto motor-bomba queda definido como la intersección de la curva de la bomba del Apartado 1 con la recta recién obtenida. El sistema a determinar es el siguiente:\n",
        "\n",
        "$$\\left\\{ T = 0.00548Ω^2 + 22.59 \\atop T = -53.48Ω + 8400  \\right.$$"
      ],
      "metadata": {
        "id": "O8WNkZxlQx_R"
      }
    },
    {
      "cell_type": "markdown",
      "source": [
        "Se resuelve con código este sistema de ecuaciones a continuación a través del comando fsolve. Por ello:\n",
        "\n",
        "$$ \\left\\{f_1 ≡ T - 0.00548Ω^2 - 22.59 = 0 \\atop f_2 ≡ T + 53.48Ω - 8400 = 0 \\right.$$"
      ],
      "metadata": {
        "id": "TLNZuMCcTGrK"
      }
    },
    {
      "cell_type": "code",
      "source": [
        "import numpy as np\n",
        "from scipy.optimize import fsolve\n",
        "\n",
        "def f(variables):\n",
        "  T, omega = variables\n",
        "  f1 = T -0.00548*omega**2 - 22.59\n",
        "  f2 = T + abs(a1)*omega - 8400\n",
        "  return [f1,f2]\n",
        "\n",
        "#Iterante inicial\n",
        "f0 = [160, 150]\n",
        "\n",
        "f_sol = fsolve(f, f0)\n",
        "\n",
        "print(\"Punto de funcionamiento del motor:\")\n",
        "print(f\"T = {f_sol[0]:.2f} Nm, n = {f_sol[1]*60/(2*np.pi):.2f} rpm\")"
      ],
      "metadata": {
        "colab": {
          "base_uri": "https://localhost:8080/"
        },
        "id": "EP06bYkVTNM7",
        "outputId": "de8f0410-ac5b-4d2f-ac21-9ea6737a5f5a"
      },
      "execution_count": null,
      "outputs": [
        {
          "output_type": "stream",
          "name": "stdout",
          "text": [
            "Punto de funcionamiento del motor:\n",
            "T = 152.93 Nm, n = 1472.69 rpm\n"
          ]
        }
      ]
    },
    {
      "cell_type": "markdown",
      "source": [
        "### Gráfica conjunto motor-bomba\n",
        "Se realiza la gráfica de la intersección para tener una prueba gráfica de que el punto de funcionamiento obtenido entra dentro de la zona lineal antes comentada.\n"
      ],
      "metadata": {
        "id": "KnRVmOQ-1K0a"
      }
    },
    {
      "cell_type": "code",
      "source": [
        "import matplotlib.pyplot as plt\n",
        "valores_n = np.array([x*20*60/(2*np.pi) for x in range(0,11)])\n",
        "valores_n\n",
        "\n",
        "def T1 (omega):\n",
        "  return A * np.array(omega)**2 + B\n",
        "\n",
        "def T2 (omega):\n",
        "  return a1*np.array(omega) + a0\n",
        "\n",
        "plt.plot(valores_n, T1(valores_n*2*np.pi/60), label=\"Par bomba\", color=\"blue\")\n",
        "plt.plot(valores_n, T2(valores_n*2*np.pi/60), label=\"Par motor\", color=\"red\")\n",
        "plt.text(f_sol[1]*60/(2*np.pi), f_sol[0], f\"({f_sol[1]*60/(2*np.pi):.2f}, {f_sol[0]:.2f})\",\n",
        "         fontsize=10, ha=\"right\", color=\"green\")\n",
        "plt.plot(f_sol[1]*60/(2*np.pi), \"o\", color=\"green\", label=\"Punto de funcionamiento\")\n",
        "plt.xlabel(\"Velocidad de giro [rpm]\")\n",
        "plt.ylabel(\"Par [Nm]\")\n",
        "plt.legend()\n",
        "plt.grid(True)\n",
        "plt.ylim(0,500)\n",
        "plt.show()"
      ],
      "metadata": {
        "id": "eckgvRlv1KQI",
        "colab": {
          "base_uri": "https://localhost:8080/",
          "height": 455
        },
        "outputId": "d2f56c75-fbb3-4362-c954-1c97d9c6d003"
      },
      "execution_count": 51,
      "outputs": [
        {
          "output_type": "display_data",
          "data": {
            "text/plain": [
              "<Figure size 640x480 with 1 Axes>"
            ],
            "image/png": "[encoded data removed]"
          },
          "metadata": {}
        }
      ]
    }
  ]
}